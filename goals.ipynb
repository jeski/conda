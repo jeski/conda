import numpy as np
import pandas as pd
from bokeh.plotting import figure, show, output_notebook
#from bokeh.plotting import figure, show, output_file
from bokeh.models import (ColumnDataSource, LinearInterpolator,
                          CategoricalColorMapper, Legend, #LegendItem,
                          LabelSet, HoverTool)

from bokeh.palettes import d3
TOOLS="pan,wheel_zoom,zoom_in,zoom_out,box_zoom,undo,redo,reset,tap,save,box_select,poly_select,lasso_select,"
df = pd.read_csv(r'c:\users\mike\ipynb\gw23-goals.csv')
source = ColumnDataSource(df)
chance_size = df.shots_on_target * 5
color_mapper = CategoricalColorMapper(palette=d3['Category10'][3], factors=df.position.unique())
p = figure(title="Goals Scored. Sized by Shots on Target. Hover over the Circles for stats @bitterandstout", title_location="above" ,toolbar_location="right", plot_width=900, plot_height=600,tools=TOOLS)
p.circle(
    x='shots', 
    y='goals',
    #x='assists', 
    #y='big_chances_created', 
    source=source,
    size='shots_on_target', 
    #size='points',
    fill_color={'field': 'position', 'transform': color_mapper},
    fill_alpha=0.6,
    legend='position',
)
p.xaxis[0].axis_label = 'Shots'
p.yaxis[0].axis_label = 'Goals'
p.add_tools(HoverTool(tooltips=[
    ('Name','@name'),
    ('Goals','@goals'),
    ('Shots', '@shots'),
    ('Shots On Target', '@shots_on_target'),
    ('Shots In the Box', '@shots_in_the_box'),
    ('Goals In the Box', '@goals_in_box'),
    ('Goals Outside the Box ', '@goals_outside_box'),
    ('Assists', '@assists'),
    ('Points', '@points')],
    show_arrow=False))#, point_policy='follow_mouse'))
labels = LabelSet(x="shots", y="goals", text="name", y_offset=8,
                  text_font_size="8pt", text_color="#000000",
                  source=source, text_align='center')
p.add_layout(labels)
p.legend.location = "top_left"
p.title.text_font_size = '14pt'

#output_file("gw23-goals.html", title="GW 23 Goals")
output_notebook()
show(p) # open a browser
